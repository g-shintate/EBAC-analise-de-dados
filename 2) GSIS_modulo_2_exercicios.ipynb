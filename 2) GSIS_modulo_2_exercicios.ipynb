{
  "nbformat": 4,
  "nbformat_minor": 0,
  "metadata": {
    "colab": {
      "name": "modulo_2_exercicios.ipynb",
      "provenance": [],
      "collapsed_sections": []
    },
    "kernelspec": {
      "name": "python3",
      "display_name": "Python 3"
    }
  },
  "cells": [
    {
      "cell_type": "markdown",
      "metadata": {
        "id": "KJqp9AANOCtf"
      },
      "source": [
        "<img src=\"https://raw.githubusercontent.com/andre-marcos-perez/ebac-course-utils/main/media/logo/newebac_logo_black_half.png\" alt=\"ebac-logo\">\n",
        "\n",
        "---\n",
        "\n",
        "# **Módulo 02** | Python: Estruturas de Dados\n",
        "Caderno de **Exercícios**<br> \n",
        "Professor [André Perez](https://www.linkedin.com/in/andremarcosperez/)\n",
        "Aluno [Gustavo Shintate](https://www.linkedin.com/in/gshintate/)\n",
        "\n",
        "---"
      ]
    },
    {
      "cell_type": "markdown",
      "metadata": {
        "id": "d9jDtUbDOE1-"
      },
      "source": [
        "# **Tópicos**\n",
        "\n",
        "<ol type=\"1\">\n",
        "  <li>Listas;</li>\n",
        "  <li>Conjuntos;</li>\n",
        "  <li>Dicionários.</li>\n",
        "</ol>"
      ]
    },
    {
      "cell_type": "markdown",
      "metadata": {
        "id": "SmoHgt-lwkpD"
      },
      "source": [
        "---"
      ]
    },
    {
      "cell_type": "markdown",
      "metadata": {
        "id": "GABI6OW8OfQ2"
      },
      "source": [
        "# **Exercícios**"
      ]
    },
    {
      "cell_type": "markdown",
      "metadata": {
        "id": "muD1vxozykSC"
      },
      "source": [
        "## 1\\. Listas"
      ]
    },
    {
      "cell_type": "markdown",
      "metadata": {
        "id": "ahrFfCuBxJKs"
      },
      "source": [
        "Criei uma lista chamada `filmes` com o nome dos 10 primeiros filmes mais bem avaliados no site no [IMDB](https://www.imdb.com/chart/top/). Imprima o resultado."
      ]
    },
    {
      "cell_type": "code",
      "metadata": {
        "id": "OgL6Hv3bzOHI",
        "colab": {
          "base_uri": "https://localhost:8080/"
        },
        "outputId": "522b2d93-bb2a-4f58-fe2a-e211066b8a2b"
      },
      "source": [
        "filmes = [\n",
        "          'Um sonho de liberdade',\n",
        "          'O poderoso chefão',\n",
        "          'O poderoso chefão ii',\n",
        "          'Batman: O cavaleiro das trevas',\n",
        "          '12 homens e uma sentença',\n",
        "          'A lista de Schindler',\n",
        "          'O senhor dos anéis: o retorno do rei',\n",
        "          'Pulp fiction: tempos de violência',\n",
        "          'Três homens em conflito',\n",
        "          'O senhor dos anéis: a sociedade do anel'\n",
        "]\n",
        "\n",
        "print (filmes)\n"
      ],
      "execution_count": 21,
      "outputs": [
        {
          "output_type": "stream",
          "name": "stdout",
          "text": [
            "['Um sonho de liberdade', 'O poderoso chefão', 'O poderoso chefão ii', 'Batman: O cavaleiro das trevas', '12 homens e uma sentença', 'A lista de Schindler', 'O senhor dos anéis: o retorno do rei', 'Pulp fiction: tempos de violência', 'Três homens em conflito', 'O senhor dos anéis: a sociedade do anel']\n"
          ]
        }
      ]
    },
    {
      "cell_type": "markdown",
      "metadata": {
        "id": "KI9zQRT2xa7m"
      },
      "source": [
        "Simule a movimentação do *ranking*. Utilize os métodos `insert` e `pop` para trocar a posição do primeiro e do segundo filme da lista. Imprima o resultado.\n",
        "\n"
      ]
    },
    {
      "cell_type": "code",
      "metadata": {
        "id": "zX3mA3_GzrXH",
        "colab": {
          "base_uri": "https://localhost:8080/"
        },
        "outputId": "b4eb3eea-fd3c-4760-a1cc-a4677b845682"
      },
      "source": [
        "print(filmes)\n",
        "filmes.insert(0,'O poderoso chefão')\n",
        "filmes.pop(2)\n",
        "print(filmes)"
      ],
      "execution_count": 22,
      "outputs": [
        {
          "output_type": "stream",
          "name": "stdout",
          "text": [
            "['Um sonho de liberdade', 'O poderoso chefão', 'O poderoso chefão ii', 'Batman: O cavaleiro das trevas', '12 homens e uma sentença', 'A lista de Schindler', 'O senhor dos anéis: o retorno do rei', 'Pulp fiction: tempos de violência', 'Três homens em conflito', 'O senhor dos anéis: a sociedade do anel']\n",
            "['O poderoso chefão', 'Um sonho de liberdade', 'O poderoso chefão ii', 'Batman: O cavaleiro das trevas', '12 homens e uma sentença', 'A lista de Schindler', 'O senhor dos anéis: o retorno do rei', 'Pulp fiction: tempos de violência', 'Três homens em conflito', 'O senhor dos anéis: a sociedade do anel']\n"
          ]
        }
      ]
    },
    {
      "cell_type": "markdown",
      "metadata": {
        "id": "zMN1Q3jdwoJm"
      },
      "source": [
        "---"
      ]
    },
    {
      "cell_type": "markdown",
      "metadata": {
        "id": "lxa5L6uF0ZJE"
      },
      "source": [
        "## 2\\. Conjuntos"
      ]
    },
    {
      "cell_type": "markdown",
      "metadata": {
        "id": "9JahS2Kj0d5u"
      },
      "source": [
        "Aconteceu um erro no seu *ranking*. Simule a duplicação dos três últimos filmes da lista. Imprima o resultado."
      ]
    },
    {
      "cell_type": "code",
      "metadata": {
        "id": "BnjnLBNC6PGe",
        "colab": {
          "base_uri": "https://localhost:8080/"
        },
        "outputId": "2a3a1f42-56bd-4bd9-d316-e970e6167350"
      },
      "source": [
        "print(filmes)\n",
        "\n",
        "filmes.append('Pulp fiction: tempos de violência') \n",
        "filmes.append('Três homens em conflito') \n",
        "filmes.append('O senhor dos anéis: a sociedade do anel') \n",
        "print(filmes)\n"
      ],
      "execution_count": 23,
      "outputs": [
        {
          "output_type": "stream",
          "name": "stdout",
          "text": [
            "['O poderoso chefão', 'Um sonho de liberdade', 'O poderoso chefão ii', 'Batman: O cavaleiro das trevas', '12 homens e uma sentença', 'A lista de Schindler', 'O senhor dos anéis: o retorno do rei', 'Pulp fiction: tempos de violência', 'Três homens em conflito', 'O senhor dos anéis: a sociedade do anel']\n",
            "['O poderoso chefão', 'Um sonho de liberdade', 'O poderoso chefão ii', 'Batman: O cavaleiro das trevas', '12 homens e uma sentença', 'A lista de Schindler', 'O senhor dos anéis: o retorno do rei', 'Pulp fiction: tempos de violência', 'Três homens em conflito', 'O senhor dos anéis: a sociedade do anel', 'Pulp fiction: tempos de violência', 'Três homens em conflito', 'O senhor dos anéis: a sociedade do anel']\n"
          ]
        }
      ]
    },
    {
      "cell_type": "markdown",
      "metadata": {
        "id": "suxTfCJB6ZiX"
      },
      "source": [
        "Utiliza a conversão `set` e `list` para remover os valores duplicados. Imprima o resultado. "
      ]
    },
    {
      "cell_type": "code",
      "metadata": {
        "id": "ZvUGN-0n6joM",
        "colab": {
          "base_uri": "https://localhost:8080/"
        },
        "outputId": "25f87f8c-e2d9-4c9d-aace-010e8fdc347e"
      },
      "source": [
        "print(len(filmes))\n",
        "filmes_unicos = set(filmes)\n",
        "print(len(filmes_unicos))\n",
        "\n",
        "list(filmes_unicos)\n",
        "print(len(filmes_unicos))\n",
        "filmes_unicos = filmes\n",
        "print(filmes)"
      ],
      "execution_count": 46,
      "outputs": [
        {
          "output_type": "stream",
          "name": "stdout",
          "text": [
            "13\n",
            "10\n",
            "10\n",
            "['O poderoso chefão', 'Um sonho de liberdade', 'O poderoso chefão ii', 'Batman: O cavaleiro das trevas', '12 homens e uma sentença', 'A lista de Schindler', 'O senhor dos anéis: o retorno do rei', 'Pulp fiction: tempos de violência', 'Três homens em conflito', 'O senhor dos anéis: a sociedade do anel', 'Pulp fiction: tempos de violência', 'Três homens em conflito', 'O senhor dos anéis: a sociedade do anel']\n"
          ]
        }
      ]
    },
    {
      "cell_type": "markdown",
      "metadata": {
        "id": "ShkK35eQ6pAM"
      },
      "source": [
        "---"
      ]
    },
    {
      "cell_type": "markdown",
      "metadata": {
        "id": "EL_FzmxL6rTv"
      },
      "source": [
        "## 3\\. Dicionários"
      ]
    },
    {
      "cell_type": "markdown",
      "metadata": {
        "id": "i8l0gFqRCpfT"
      },
      "source": [
        "Repita os exercícios da parte 1 (listas). Os elementos da lista `filmes` devem ser dicionários no seguinte formato: `{'nome': <nome-do-filme>, 'ano': <ano do filme>}, 'sinopse': <sinopse do filme>}`. "
      ]
    },
    {
      "cell_type": "code",
      "metadata": {
        "colab": {
          "base_uri": "https://localhost:8080/"
        },
        "id": "sXC60Iw1JJI3",
        "outputId": "98ac08ae-896b-4f98-c459-42dd033cfa97"
      },
      "source": [
        "filmes = []\n",
        "entrada = {\n",
        "    'nome':'Um sonho de liberdade',\n",
        "    'ano': 1994,\n",
        "    'sinopse':'Dois homens presos se reúnem ao longo de vários anos, encontrando consolo e eventual redenção através de atos de decência comum.'\n",
        "}\n",
        "filmes.append(entrada)\n",
        "\n",
        "entrada = {\n",
        "    'nome':'O poderoso chefão',\n",
        "    'ano': 1972,\n",
        "    'sinopse':'O patriarca idoso de uma dinastia do crime organizado transfere o controle de seu império clandestino para seu filho relutante.'\n",
        "}\n",
        "filmes.append(entrada)\n",
        "\n",
        "entrada = {\n",
        "    'nome':'O poderoso chefão ii',\n",
        "    'ano': 1974,\n",
        "    'sinopse':'Após a máfia matar sua família, o jovem Vito foge da sua cidade na Sicília e vai para a América. (cont...)'\n",
        "}\n",
        "filmes.append(entrada)\n",
        "\n",
        "entrada = {\n",
        "    'nome':'Batman: O cavaleiro das trevas',\n",
        "    'ano': 2008,\n",
        "    'sinopse':'Quando a ameaça conhecida como O Coringa surge de seu passado, causa estragos e caos nas pessoas de Gotham. (cont...)'\n",
        "}\n",
        "filmes.append(entrada)\n",
        "\n",
        "entrada = {\n",
        "    'nome':'12 homens e uma sentença',\n",
        "    'ano': 1957,\n",
        "    'sinopse':'The jury in a New York City murder trial is frustrated by a single member whose skeptical caution forces them to (cont...)'\n",
        "}\n",
        "filmes.append(entrada)\n",
        "\n",
        "entrada = {\n",
        "    'nome':'A lista de Schindler',\n",
        "    'ano': 1993,\n",
        "    'sinopse':'Depois de testemunhar a perseguição dos judaicos na Polônia ocupada pelos alemães durante a Segunda Guerra Mundial (cont...)'\n",
        "}\n",
        "filmes.append(entrada)\n",
        "\n",
        "entrada = {\n",
        "    'nome':'O senhor dos anéis: o retorno do rei',\n",
        "    'ano': 2003,\n",
        "    'sinopse':'Gandalf e Aragorn lideram o Mundo dos Homens contra o exército de Sauron para desviar o olhar de Frodo e Sam (cont...)'\n",
        "}\n",
        "filmes.append(entrada)\n",
        "\n",
        "entrada = {\n",
        "    'nome':'Pulp fiction: tempos de violência',\n",
        "    'ano': 1994,\n",
        "    'sinopse':'As vidas de dois assassinos da máfia, um boxeador, um gângster e sua esposa, e um par de bandidos se entrelaçam (cont...)'\n",
        "}\n",
        "filmes.append(entrada)\n",
        "\n",
        "entrada = {\n",
        "    'nome':'Três homens em conflito',\n",
        "    'ano': 1966,\n",
        "    'sinopse':'Um impostor se junta com dois homens para encontrar fortuna num remoto cemitério.'\n",
        "}\n",
        "filmes.append(entrada)\n",
        "\n",
        "entrada = {\n",
        "    'nome':'O senhor dos anéis: a sociedade do anel',\n",
        "    'ano': 2001,\n",
        "    'sinopse':'Um manso hobbit do Condado e oito companheiros partem em uma jornada para destruir o poderoso Um Anel e salvar a Terra-média das Trevas.'\n",
        "}\n",
        "filmes.append(entrada)\n",
        "\n",
        "print (filmes)"
      ],
      "execution_count": 50,
      "outputs": [
        {
          "output_type": "stream",
          "name": "stdout",
          "text": [
            "[{'nome': 'Um sonho de liberdade', 'ano': 1994, 'sinopse': 'Dois homens presos se reúnem ao longo de vários anos, encontrando consolo e eventual redenção através de atos de decência comum.'}, {'nome': 'O poderoso chefão', 'ano': 1972, 'sinopse': 'O patriarca idoso de uma dinastia do crime organizado transfere o controle de seu império clandestino para seu filho relutante.'}, {'nome': 'O poderoso chefão ii', 'ano': 1974, 'sinopse': 'Após a máfia matar sua família, o jovem Vito foge da sua cidade na Sicília e vai para a América. (cont...)'}, {'nome': 'Batman: O cavaleiro das trevas', 'ano': 2008, 'sinopse': 'Quando a ameaça conhecida como O Coringa surge de seu passado, causa estragos e caos nas pessoas de Gotham. (cont...)'}, {'nome': '12 homens e uma sentença', 'ano': 1957, 'sinopse': 'The jury in a New York City murder trial is frustrated by a single member whose skeptical caution forces them to (cont...)'}, {'nome': 'A lista de Schindler', 'ano': 1993, 'sinopse': 'Depois de testemunhar a perseguição dos judaicos na Polônia ocupada pelos alemães durante a Segunda Guerra Mundial (cont...)'}, {'nome': 'O senhor dos anéis: o retorno do rei', 'ano': 2003, 'sinopse': 'Gandalf e Aragorn lideram o Mundo dos Homens contra o exército de Sauron para desviar o olhar de Frodo e Sam (cont...)'}, {'nome': 'Pulp fiction: tempos de violência', 'ano': 1994, 'sinopse': 'As vidas de dois assassinos da máfia, um boxeador, um gângster e sua esposa, e um par de bandidos se entrelaçam (cont...)'}, {'nome': 'Três homens em conflito', 'ano': 1966, 'sinopse': 'Um impostor se junta com dois homens para encontrar fortuna num remoto cemitério.'}, {'nome': 'O senhor dos anéis: a sociedade do anel', 'ano': 2001, 'sinopse': 'Um manso hobbit do Condado e oito companheiros partem em uma jornada para destruir o poderoso Um Anel e salvar a Terra-média das Trevas.'}]\n"
          ]
        }
      ]
    }
  ]
}
